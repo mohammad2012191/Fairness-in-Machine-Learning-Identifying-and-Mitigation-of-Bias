{
 "cells": [
  {
   "cell_type": "code",
   "execution_count": null,
   "id": "11209907",
   "metadata": {
    "execution": {
     "iopub.execute_input": "2025-01-19T14:06:34.778061Z",
     "iopub.status.busy": "2025-01-19T14:06:34.777676Z",
     "iopub.status.idle": "2025-01-19T14:06:40.761290Z",
     "shell.execute_reply": "2025-01-19T14:06:40.760095Z"
    },
    "papermill": {
     "duration": 5.997826,
     "end_time": "2025-01-19T14:06:40.763401",
     "exception": false,
     "start_time": "2025-01-19T14:06:34.765575",
     "status": "completed"
    },
    "tags": []
   },
   "outputs": [],
   "source": [
    "!pip install -q fairlearn"
   ]
  },
  {
   "cell_type": "code",
   "execution_count": null,
   "id": "0c38b16d",
   "metadata": {
    "execution": {
     "iopub.execute_input": "2025-01-19T14:06:40.786792Z",
     "iopub.status.busy": "2025-01-19T14:06:40.786435Z",
     "iopub.status.idle": "2025-01-19T14:06:44.150159Z",
     "shell.execute_reply": "2025-01-19T14:06:44.148718Z"
    },
    "papermill": {
     "duration": 3.377474,
     "end_time": "2025-01-19T14:06:44.151912",
     "exception": false,
     "start_time": "2025-01-19T14:06:40.774438",
     "status": "completed"
    },
    "tags": []
   },
   "outputs": [],
   "source": [
    "import numpy as np\n",
    "import pandas as pd\n",
    "import matplotlib.pyplot as plt\n",
    "from sklearn.datasets import fetch_openml\n",
    "from fairlearn.metrics import MetricFrame\n",
    "from sklearn.metrics import accuracy_score,precision_score,recall_score\n",
    "\n",
    "from sklearn.tree import DecisionTreeClassifier\n",
    "from sklearn.ensemble import GradientBoostingClassifier\n",
    "import seaborn as sns\n",
    "from fairlearn.metrics import selection_rate\n",
    "from fairlearn.reductions import ExponentiatedGradient, DemographicParity\n",
    "from fairlearn.preprocessing import CorrelationRemover\n",
    "\n",
    "import os\n",
    "for dirname, _, filenames in os.walk('/kaggle/input'):\n",
    "    for filename in filenames:\n",
    "        print(os.path.join(dirname, filename))\n",
    "        \n",
    "pd.options.display.max_columns=500\n",
    "\n",
    "\n",
    "from sklearn.model_selection import train_test_split\n",
    "\n",
    "from sklearn.preprocessing import LabelEncoder\n",
    "label_encoder=LabelEncoder()"
   ]
  },
  {
   "cell_type": "code",
   "execution_count": null,
   "id": "e40a8dda",
   "metadata": {
    "execution": {
     "iopub.execute_input": "2025-01-19T13:35:08.454141Z",
     "iopub.status.busy": "2025-01-19T13:35:08.453665Z",
     "iopub.status.idle": "2025-01-19T13:35:08.460189Z",
     "shell.execute_reply": "2025-01-19T13:35:08.458980Z",
     "shell.execute_reply.started": "2025-01-19T13:35:08.454102Z"
    },
    "papermill": {
     "duration": 0.010643,
     "end_time": "2025-01-19T14:06:44.173440",
     "exception": false,
     "start_time": "2025-01-19T14:06:44.162797",
     "status": "completed"
    },
    "tags": []
   },
   "outputs": [],
   "source": []
  },
  {
   "cell_type": "code",
   "execution_count": 3,
   "id": "7362beb5",
   "metadata": {
    "execution": {
     "iopub.execute_input": "2025-01-19T14:06:44.196084Z",
     "iopub.status.busy": "2025-01-19T14:06:44.195538Z",
     "iopub.status.idle": "2025-01-19T14:06:45.224626Z",
     "shell.execute_reply": "2025-01-19T14:06:45.223642Z"
    },
    "papermill": {
     "duration": 1.042566,
     "end_time": "2025-01-19T14:06:45.226556",
     "exception": false,
     "start_time": "2025-01-19T14:06:44.183990",
     "status": "completed"
    },
    "tags": []
   },
   "outputs": [],
   "source": [
    "# data = fetch_openml(data_id=1590, as_frame=True)\n",
    "#data = fetch_adult()\n",
    "data = pd.read_csv(\"/kaggle/input/70k-job-applicants-data-human-resource/stackoverflow_full.csv\").drop(\"Unnamed: 0\",axis=1)\n",
    "data[\"race\"] = 0\n",
    "\n",
    "import pandas as pd\n",
    "from sklearn.preprocessing import LabelEncoder, MinMaxScaler\n",
    "\n",
    "def preprocess_data(df):\n",
    "    \"\"\"\n",
    "    Preprocess a pandas DataFrame by:\n",
    "    1. Filling missing values in numeric columns with median\n",
    "    2. Filling missing values in categorical columns with mode\n",
    "    3. Label encoding categorical columns\n",
    "    4. MinMax scaling numeric columns to range [0,1]\n",
    "    \n",
    "    Parameters:\n",
    "    df (pandas.DataFrame): Input DataFrame\n",
    "    \n",
    "    Returns:\n",
    "    pandas.DataFrame: Preprocessed DataFrame\n",
    "    \"\"\"\n",
    "    # Create a copy to avoid modifying the original DataFrame\n",
    "    df = df.copy()\n",
    "    \n",
    "    # Identify numeric and categorical columns\n",
    "    numeric_columns = df.select_dtypes(include=['float64', 'int64']).columns.drop(\"Employed\")\n",
    "    categorical_columns = df.select_dtypes(include=['object']).columns\n",
    "    \n",
    "    # Fill numeric columns with median\n",
    "    df[numeric_columns] = df[numeric_columns].fillna(df[numeric_columns].median())\n",
    "    \n",
    "    # Fill categorical columns with mode\n",
    "    df[categorical_columns] = df[categorical_columns].fillna(df[categorical_columns].mode().iloc[0])\n",
    "    \n",
    "    # Label encode categorical columns\n",
    "    le = LabelEncoder()\n",
    "    for col in categorical_columns:\n",
    "        df[col] = le.fit_transform(df[col])\n",
    "    \n",
    "    # MinMax scale numeric columns\n",
    "    scaler = MinMaxScaler()\n",
    "    df[numeric_columns] = scaler.fit_transform(df[numeric_columns])\n",
    "    df[categorical_columns] = scaler.fit_transform(df[categorical_columns])\n",
    "    \n",
    "    return df\n",
    "\n",
    "# Example usage:\n",
    "data = preprocess_data(data)\n",
    "data = data.rename({\"Gender\":\"sex\",\"Employed\":\"target\"},axis=1)\n",
    "\n",
    "X = data\n",
    "y = data.target\n",
    "sex = data['sex']\n",
    "race =data['race']\n",
    "X_raw = data\n",
    "A = X_raw[\"sex\"]\n",
    "\n",
    "df = pd.concat([X,pd.Series(y, name='>50K')], axis=1)\n",
    "\n",
    "df.drop(\"target\",axis=1,inplace=True)"
   ]
  },
  {
   "cell_type": "code",
   "execution_count": 4,
   "id": "ecd696de",
   "metadata": {
    "execution": {
     "iopub.execute_input": "2025-01-19T14:06:45.250431Z",
     "iopub.status.busy": "2025-01-19T14:06:45.250092Z",
     "iopub.status.idle": "2025-01-19T14:06:45.275225Z",
     "shell.execute_reply": "2025-01-19T14:06:45.274122Z"
    },
    "papermill": {
     "duration": 0.038535,
     "end_time": "2025-01-19T14:06:45.277141",
     "exception": false,
     "start_time": "2025-01-19T14:06:45.238606",
     "status": "completed"
    },
    "tags": []
   },
   "outputs": [
    {
     "data": {
      "text/html": [
       "<div>\n",
       "<style scoped>\n",
       "    .dataframe tbody tr th:only-of-type {\n",
       "        vertical-align: middle;\n",
       "    }\n",
       "\n",
       "    .dataframe tbody tr th {\n",
       "        vertical-align: top;\n",
       "    }\n",
       "\n",
       "    .dataframe thead th {\n",
       "        text-align: right;\n",
       "    }\n",
       "</style>\n",
       "<table border=\"1\" class=\"dataframe\">\n",
       "  <thead>\n",
       "    <tr style=\"text-align: right;\">\n",
       "      <th></th>\n",
       "      <th>Age</th>\n",
       "      <th>Accessibility</th>\n",
       "      <th>EdLevel</th>\n",
       "      <th>Employment</th>\n",
       "      <th>sex</th>\n",
       "      <th>MentalHealth</th>\n",
       "      <th>MainBranch</th>\n",
       "      <th>YearsCode</th>\n",
       "      <th>YearsCodePro</th>\n",
       "      <th>Country</th>\n",
       "      <th>PreviousSalary</th>\n",
       "      <th>HaveWorkedWith</th>\n",
       "      <th>ComputerSkills</th>\n",
       "      <th>race</th>\n",
       "      <th>&gt;50K</th>\n",
       "    </tr>\n",
       "  </thead>\n",
       "  <tbody>\n",
       "    <tr>\n",
       "      <th>0</th>\n",
       "      <td>0.0</td>\n",
       "      <td>0.0</td>\n",
       "      <td>0.00</td>\n",
       "      <td>1.0</td>\n",
       "      <td>0.0</td>\n",
       "      <td>0.0</td>\n",
       "      <td>0.0</td>\n",
       "      <td>0.14</td>\n",
       "      <td>0.08</td>\n",
       "      <td>0.853801</td>\n",
       "      <td>0.230139</td>\n",
       "      <td>0.541191</td>\n",
       "      <td>0.037383</td>\n",
       "      <td>0.0</td>\n",
       "      <td>0</td>\n",
       "    </tr>\n",
       "    <tr>\n",
       "      <th>1</th>\n",
       "      <td>0.0</td>\n",
       "      <td>0.0</td>\n",
       "      <td>1.00</td>\n",
       "      <td>1.0</td>\n",
       "      <td>0.0</td>\n",
       "      <td>0.0</td>\n",
       "      <td>0.0</td>\n",
       "      <td>0.24</td>\n",
       "      <td>0.10</td>\n",
       "      <td>0.824561</td>\n",
       "      <td>0.207505</td>\n",
       "      <td>0.246374</td>\n",
       "      <td>0.112150</td>\n",
       "      <td>0.0</td>\n",
       "      <td>1</td>\n",
       "    </tr>\n",
       "    <tr>\n",
       "      <th>2</th>\n",
       "      <td>0.0</td>\n",
       "      <td>0.0</td>\n",
       "      <td>0.00</td>\n",
       "      <td>1.0</td>\n",
       "      <td>0.0</td>\n",
       "      <td>0.0</td>\n",
       "      <td>0.0</td>\n",
       "      <td>0.30</td>\n",
       "      <td>0.12</td>\n",
       "      <td>0.315789</td>\n",
       "      <td>0.345042</td>\n",
       "      <td>0.585218</td>\n",
       "      <td>0.065421</td>\n",
       "      <td>0.0</td>\n",
       "      <td>0</td>\n",
       "    </tr>\n",
       "    <tr>\n",
       "      <th>3</th>\n",
       "      <td>0.0</td>\n",
       "      <td>0.0</td>\n",
       "      <td>1.00</td>\n",
       "      <td>1.0</td>\n",
       "      <td>0.0</td>\n",
       "      <td>0.0</td>\n",
       "      <td>0.0</td>\n",
       "      <td>0.18</td>\n",
       "      <td>0.12</td>\n",
       "      <td>0.157895</td>\n",
       "      <td>0.205956</td>\n",
       "      <td>0.253833</td>\n",
       "      <td>0.121495</td>\n",
       "      <td>0.0</td>\n",
       "      <td>0</td>\n",
       "    </tr>\n",
       "    <tr>\n",
       "      <th>4</th>\n",
       "      <td>1.0</td>\n",
       "      <td>0.0</td>\n",
       "      <td>0.75</td>\n",
       "      <td>0.0</td>\n",
       "      <td>0.0</td>\n",
       "      <td>0.0</td>\n",
       "      <td>1.0</td>\n",
       "      <td>0.80</td>\n",
       "      <td>0.60</td>\n",
       "      <td>0.789474</td>\n",
       "      <td>0.718445</td>\n",
       "      <td>0.539776</td>\n",
       "      <td>0.018692</td>\n",
       "      <td>0.0</td>\n",
       "      <td>0</td>\n",
       "    </tr>\n",
       "  </tbody>\n",
       "</table>\n",
       "</div>"
      ],
      "text/plain": [
       "   Age  Accessibility  EdLevel  Employment  sex  MentalHealth  MainBranch  \\\n",
       "0  0.0            0.0     0.00         1.0  0.0           0.0         0.0   \n",
       "1  0.0            0.0     1.00         1.0  0.0           0.0         0.0   \n",
       "2  0.0            0.0     0.00         1.0  0.0           0.0         0.0   \n",
       "3  0.0            0.0     1.00         1.0  0.0           0.0         0.0   \n",
       "4  1.0            0.0     0.75         0.0  0.0           0.0         1.0   \n",
       "\n",
       "   YearsCode  YearsCodePro   Country  PreviousSalary  HaveWorkedWith  \\\n",
       "0       0.14          0.08  0.853801        0.230139        0.541191   \n",
       "1       0.24          0.10  0.824561        0.207505        0.246374   \n",
       "2       0.30          0.12  0.315789        0.345042        0.585218   \n",
       "3       0.18          0.12  0.157895        0.205956        0.253833   \n",
       "4       0.80          0.60  0.789474        0.718445        0.539776   \n",
       "\n",
       "   ComputerSkills  race  >50K  \n",
       "0        0.037383   0.0     0  \n",
       "1        0.112150   0.0     1  \n",
       "2        0.065421   0.0     0  \n",
       "3        0.121495   0.0     0  \n",
       "4        0.018692   0.0     0  "
      ]
     },
     "execution_count": 4,
     "metadata": {},
     "output_type": "execute_result"
    }
   ],
   "source": [
    "df.head()"
   ]
  },
  {
   "cell_type": "code",
   "execution_count": null,
   "id": "32a1add9",
   "metadata": {
    "execution": {
     "iopub.execute_input": "2025-01-19T14:06:45.300222Z",
     "iopub.status.busy": "2025-01-19T14:06:45.299869Z",
     "iopub.status.idle": "2025-01-19T14:06:46.488381Z",
     "shell.execute_reply": "2025-01-19T14:06:46.487327Z"
    },
    "papermill": {
     "duration": 1.205196,
     "end_time": "2025-01-19T14:06:46.493429",
     "exception": false,
     "start_time": "2025-01-19T14:06:45.288233",
     "status": "completed"
    },
    "tags": []
   },
   "outputs": [],
   "source": [
    "#correlation heatmap of dataset\n",
    "def correlation_heatmap(df):\n",
    "    _ , ax = plt.subplots(figsize =(14, 12))\n",
    "    colormap = sns.diverging_palette(220, 10, as_cmap = True)\n",
    "    \n",
    "    _ = sns.heatmap(\n",
    "        df.corr(), \n",
    "        cmap = \"YlGn\",\n",
    "        square=True, \n",
    "        cbar_kws={'shrink':.9 }, \n",
    "        ax=ax,\n",
    "        annot=True, \n",
    "        linewidths=0.1,vmax=1.0, linecolor='white',\n",
    "        annot_kws={'fontsize':12 }\n",
    "    )\n",
    "    \n",
    "    plt.title('Pearson Correlation of Features', y=1.05, size=15)\n",
    "\n",
    "correlation_heatmap(df)"
   ]
  },
  {
   "cell_type": "markdown",
   "id": "9b74724c",
   "metadata": {
    "papermill": {
     "duration": 0.015941,
     "end_time": "2025-01-19T14:06:46.526296",
     "exception": false,
     "start_time": "2025-01-19T14:06:46.510355",
     "status": "completed"
    },
    "tags": []
   },
   "source": [
    "# Our Model"
   ]
  },
  {
   "cell_type": "code",
   "execution_count": 6,
   "id": "74f1a954",
   "metadata": {
    "execution": {
     "iopub.execute_input": "2025-01-19T14:06:46.559633Z",
     "iopub.status.busy": "2025-01-19T14:06:46.559287Z",
     "iopub.status.idle": "2025-01-19T14:06:46.565796Z",
     "shell.execute_reply": "2025-01-19T14:06:46.564702Z"
    },
    "papermill": {
     "duration": 0.025415,
     "end_time": "2025-01-19T14:06:46.567729",
     "exception": false,
     "start_time": "2025-01-19T14:06:46.542314",
     "status": "completed"
    },
    "tags": []
   },
   "outputs": [],
   "source": [
    "X=df.drop('>50K',axis=1)\n",
    "y=df['>50K']"
   ]
  },
  {
   "cell_type": "code",
   "execution_count": 7,
   "id": "47e7182f",
   "metadata": {
    "execution": {
     "iopub.execute_input": "2025-01-19T14:06:46.601964Z",
     "iopub.status.busy": "2025-01-19T14:06:46.601578Z",
     "iopub.status.idle": "2025-01-19T14:07:36.383423Z",
     "shell.execute_reply": "2025-01-19T14:07:36.382338Z"
    },
    "papermill": {
     "duration": 49.800655,
     "end_time": "2025-01-19T14:07:36.385191",
     "exception": false,
     "start_time": "2025-01-19T14:06:46.584536",
     "status": "completed"
    },
    "tags": []
   },
   "outputs": [],
   "source": [
    "from catboost import CatBoostClassifier\n",
    "from lightgbm import LGBMClassifier\n",
    "from sklearn.model_selection import StratifiedKFold\n",
    "import numpy as np\n",
    "\n",
    "y_pred = np.zeros(len(y))\n",
    "skf = StratifiedKFold(n_splits=5, shuffle=True, random_state=42)\n",
    "classifier = CatBoostClassifier(verbose=0)\n",
    "\n",
    "for train_idx, val_idx in skf.split(X, y):\n",
    "    classifier.fit(X.loc[train_idx,:], y[train_idx])\n",
    "    y_pred[val_idx] = classifier.predict(X.loc[val_idx,:])\n"
   ]
  },
  {
   "cell_type": "markdown",
   "id": "2f17b6e3",
   "metadata": {
    "papermill": {
     "duration": 0.015986,
     "end_time": "2025-01-19T14:07:36.417857",
     "exception": false,
     "start_time": "2025-01-19T14:07:36.401871",
     "status": "completed"
    },
    "tags": []
   },
   "source": [
    "## Fairness Assessment for the model "
   ]
  },
  {
   "cell_type": "markdown",
   "id": "65c6171d",
   "metadata": {
    "papermill": {
     "duration": 0.015946,
     "end_time": "2025-01-19T14:07:36.450044",
     "exception": false,
     "start_time": "2025-01-19T14:07:36.434098",
     "status": "completed"
    },
    "tags": []
   },
   "source": [
    "# Metrics"
   ]
  },
  {
   "cell_type": "code",
   "execution_count": 8,
   "id": "3fd95f85",
   "metadata": {
    "execution": {
     "iopub.execute_input": "2025-01-19T14:07:36.483896Z",
     "iopub.status.busy": "2025-01-19T14:07:36.483495Z",
     "iopub.status.idle": "2025-01-19T14:07:36.487628Z",
     "shell.execute_reply": "2025-01-19T14:07:36.486785Z"
    },
    "papermill": {
     "duration": 0.022892,
     "end_time": "2025-01-19T14:07:36.489242",
     "exception": false,
     "start_time": "2025-01-19T14:07:36.466350",
     "status": "completed"
    },
    "tags": []
   },
   "outputs": [],
   "source": [
    "metrics = {\n",
    "    'accuracy': accuracy_score,\n",
    "    'precision': precision_score,\n",
    "    'recall': recall_score,\n",
    "    'selection_rate': selection_rate\n",
    "}"
   ]
  },
  {
   "cell_type": "markdown",
   "id": "e451a737",
   "metadata": {
    "papermill": {
     "duration": 0.015741,
     "end_time": "2025-01-19T14:07:36.521360",
     "exception": false,
     "start_time": "2025-01-19T14:07:36.505619",
     "status": "completed"
    },
    "tags": []
   },
   "source": [
    "# -   Sex as Sensitive Feature "
   ]
  },
  {
   "cell_type": "code",
   "execution_count": null,
   "id": "639d6e87",
   "metadata": {
    "execution": {
     "iopub.execute_input": "2025-01-19T14:07:36.555852Z",
     "iopub.status.busy": "2025-01-19T14:07:36.555469Z",
     "iopub.status.idle": "2025-01-19T14:07:38.085231Z",
     "shell.execute_reply": "2025-01-19T14:07:38.084214Z"
    },
    "papermill": {
     "duration": 1.549217,
     "end_time": "2025-01-19T14:07:38.086796",
     "exception": false,
     "start_time": "2025-01-19T14:07:36.537579",
     "status": "completed"
    },
    "tags": []
   },
   "outputs": [],
   "source": [
    "model_Assessmt_sex = MetricFrame(metrics=metrics, y_true=y, y_pred=y_pred, sensitive_features=df['sex'])\n",
    "model_Assessmt_sex.by_group.plot.bar(\n",
    "    subplots=True,\n",
    "    layout=[3, 3],\n",
    "    legend=False,\n",
    "    figsize=[12, 8],\n",
    "    title=\"Show all metrics\",\n",
    "    ylim=[0.6,1.0]\n",
    "   \n",
    ")\n",
    "print(model_Assessmt_sex.overall)\n",
    "print(model_Assessmt_sex.by_group)"
   ]
  },
  {
   "cell_type": "markdown",
   "id": "438c390e",
   "metadata": {
    "papermill": {
     "duration": 0.016472,
     "end_time": "2025-01-19T14:07:38.120251",
     "exception": false,
     "start_time": "2025-01-19T14:07:38.103779",
     "status": "completed"
    },
    "tags": []
   },
   "source": [
    "# 2.   Democratic Parity Differences"
   ]
  },
  {
   "cell_type": "markdown",
   "id": "02beb0e8",
   "metadata": {
    "papermill": {
     "duration": 0.016499,
     "end_time": "2025-01-19T14:07:38.153492",
     "exception": false,
     "start_time": "2025-01-19T14:07:38.136993",
     "status": "completed"
    },
    "tags": []
   },
   "source": [
    "## 2.1 Democratic Parity Differences for Sex"
   ]
  },
  {
   "cell_type": "code",
   "execution_count": null,
   "id": "5d62156a",
   "metadata": {
    "execution": {
     "iopub.execute_input": "2025-01-19T14:07:38.188858Z",
     "iopub.status.busy": "2025-01-19T14:07:38.188477Z",
     "iopub.status.idle": "2025-01-19T14:07:38.688891Z",
     "shell.execute_reply": "2025-01-19T14:07:38.687779Z"
    },
    "papermill": {
     "duration": 0.519973,
     "end_time": "2025-01-19T14:07:38.690435",
     "exception": false,
     "start_time": "2025-01-19T14:07:38.170462",
     "status": "completed"
    },
    "tags": []
   },
   "outputs": [],
   "source": [
    "from fairlearn.metrics import demographic_parity_difference\n",
    "print(demographic_parity_difference(y_true=y,\n",
    "                                    y_pred=y_pred,\n",
    "                                    sensitive_features=df['sex']))\n",
    "from fairlearn.metrics import demographic_parity_ratio\n",
    "print(demographic_parity_ratio(y_true=y,\n",
    "                               y_pred=y_pred,\n",
    "                               sensitive_features=df['sex']))"
   ]
  },
  {
   "cell_type": "markdown",
   "id": "cedaf615",
   "metadata": {
    "papermill": {
     "duration": 0.016478,
     "end_time": "2025-01-19T14:07:38.723909",
     "exception": false,
     "start_time": "2025-01-19T14:07:38.707431",
     "status": "completed"
    },
    "tags": []
   },
   "source": [
    "#                               3. MITIGATION "
   ]
  },
  {
   "cell_type": "markdown",
   "id": "15a89454",
   "metadata": {
    "papermill": {
     "duration": 0.016825,
     "end_time": "2025-01-19T14:07:38.824363",
     "exception": false,
     "start_time": "2025-01-19T14:07:38.807538",
     "status": "completed"
    },
    "tags": []
   },
   "source": [
    "# 1)  Pre-processing"
   ]
  },
  {
   "cell_type": "markdown",
   "id": "d246f5f7",
   "metadata": {
    "papermill": {
     "duration": 0.016353,
     "end_time": "2025-01-19T14:07:38.790362",
     "exception": false,
     "start_time": "2025-01-19T14:07:38.774009",
     "status": "completed"
    },
    "tags": []
   },
   "source": [
    "-    Executing Matigation Algorithms independently from each other.  "
   ]
  },
  {
   "cell_type": "markdown",
   "id": "b7a26a71",
   "metadata": {
    "papermill": {
     "duration": 0.016589,
     "end_time": "2025-01-19T14:07:38.857935",
     "exception": false,
     "start_time": "2025-01-19T14:07:38.841346",
     "status": "completed"
    },
    "tags": []
   },
   "source": [
    "##   A- CorrelationRemover"
   ]
  },
  {
   "cell_type": "markdown",
   "id": "8c7f87d8",
   "metadata": {
    "papermill": {
     "duration": 0.016585,
     "end_time": "2025-01-19T14:07:38.891249",
     "exception": false,
     "start_time": "2025-01-19T14:07:38.874664",
     "status": "completed"
    },
    "tags": []
   },
   "source": [
    " ###   a ) Sex as Sensitive Feature"
   ]
  },
  {
   "cell_type": "code",
   "execution_count": 11,
   "id": "50c17adc",
   "metadata": {
    "execution": {
     "iopub.execute_input": "2025-01-19T14:07:38.927147Z",
     "iopub.status.busy": "2025-01-19T14:07:38.926735Z",
     "iopub.status.idle": "2025-01-19T14:08:28.185550Z",
     "shell.execute_reply": "2025-01-19T14:08:28.184390Z"
    },
    "papermill": {
     "duration": 49.278989,
     "end_time": "2025-01-19T14:08:28.187587",
     "exception": false,
     "start_time": "2025-01-19T14:07:38.908598",
     "status": "completed"
    },
    "tags": []
   },
   "outputs": [],
   "source": [
    "from catboost import CatBoostClassifier\n",
    "from lightgbm import LGBMClassifier\n",
    "from sklearn.model_selection import StratifiedKFold\n",
    "import numpy as np\n",
    "\n",
    "crp_sex = CorrelationRemover(sensitive_feature_ids=['sex'])\n",
    "crp_sex.fit(X.fillna(0))\n",
    "X_transform_sexp = crp_sex.transform(X.fillna(0))\n",
    "\n",
    "y_pred_sexp = np.zeros(len(y))\n",
    "skf = StratifiedKFold(n_splits=5, shuffle=True, random_state=42)\n",
    "classifier = CatBoostClassifier(verbose=0)\n",
    "\n",
    "for train_idx, val_idx in skf.split(X_transform_sexp, y):\n",
    "    classifier.fit(X_transform_sexp[train_idx], y[train_idx])\n",
    "    y_pred_sexp[val_idx] = classifier.predict(X_transform_sexp[val_idx])\n"
   ]
  },
  {
   "cell_type": "markdown",
   "id": "292b19d3",
   "metadata": {
    "papermill": {
     "duration": 0.016753,
     "end_time": "2025-01-19T14:08:28.221823",
     "exception": false,
     "start_time": "2025-01-19T14:08:28.205070",
     "status": "completed"
    },
    "tags": []
   },
   "source": [
    " ###   b ) Testing Fairness"
   ]
  },
  {
   "cell_type": "code",
   "execution_count": null,
   "id": "8d1a4b78",
   "metadata": {
    "execution": {
     "iopub.execute_input": "2025-01-19T14:08:28.257103Z",
     "iopub.status.busy": "2025-01-19T14:08:28.256682Z",
     "iopub.status.idle": "2025-01-19T14:08:29.644875Z",
     "shell.execute_reply": "2025-01-19T14:08:29.643832Z"
    },
    "papermill": {
     "duration": 1.407486,
     "end_time": "2025-01-19T14:08:29.646355",
     "exception": false,
     "start_time": "2025-01-19T14:08:28.238869",
     "status": "completed"
    },
    "tags": []
   },
   "outputs": [],
   "source": [
    "Metric_Corr_Para_sex = MetricFrame(metrics=metrics,\n",
    "                           y_true=y,\n",
    "                           y_pred=y_pred_sexp,\n",
    "                           sensitive_features= df['sex'])\n",
    "Metric_Corr_Para_sex.by_group.plot.bar(\n",
    "    subplots=True,\n",
    "    layout=[3, 3],\n",
    "    legend=False,\n",
    "    figsize=[12, 8],\n",
    "    title=\"Show all metrics\",\n",
    ")\n",
    "print(Metric_Corr_Para_sex.overall)"
   ]
  },
  {
   "cell_type": "markdown",
   "id": "ab724a0b",
   "metadata": {
    "papermill": {
     "duration": 0.017599,
     "end_time": "2025-01-19T14:08:29.681863",
     "exception": false,
     "start_time": "2025-01-19T14:08:29.664264",
     "status": "completed"
    },
    "tags": []
   },
   "source": [
    "# B) Democratic Parity Differences \n"
   ]
  },
  {
   "cell_type": "markdown",
   "id": "4e5fb3da",
   "metadata": {
    "papermill": {
     "duration": 0.018,
     "end_time": "2025-01-19T14:08:29.717717",
     "exception": false,
     "start_time": "2025-01-19T14:08:29.699717",
     "status": "completed"
    },
    "tags": []
   },
   "source": [
    " ###   a ) Sex as Sensitive Feature"
   ]
  },
  {
   "cell_type": "code",
   "execution_count": null,
   "id": "8438a6f9",
   "metadata": {
    "execution": {
     "iopub.execute_input": "2025-01-19T14:08:29.756193Z",
     "iopub.status.busy": "2025-01-19T14:08:29.755824Z",
     "iopub.status.idle": "2025-01-19T14:08:30.265776Z",
     "shell.execute_reply": "2025-01-19T14:08:30.264595Z"
    },
    "papermill": {
     "duration": 0.530916,
     "end_time": "2025-01-19T14:08:30.267289",
     "exception": false,
     "start_time": "2025-01-19T14:08:29.736373",
     "status": "completed"
    },
    "tags": []
   },
   "outputs": [],
   "source": [
    "from fairlearn.metrics import demographic_parity_difference\n",
    "print(demographic_parity_difference(y_true=y,\n",
    "                                    y_pred=y_pred_sexp,\n",
    "                                    sensitive_features=df['sex']))\n",
    "from fairlearn.metrics import demographic_parity_ratio\n",
    "print(demographic_parity_ratio(y_true=y,\n",
    "                               y_pred=y_pred_sexp,\n",
    "                               sensitive_features=df['sex']))"
   ]
  },
  {
   "cell_type": "markdown",
   "id": "42ae9b8d",
   "metadata": {
    "papermill": {
     "duration": 0.017613,
     "end_time": "2025-01-19T14:08:30.303190",
     "exception": false,
     "start_time": "2025-01-19T14:08:30.285577",
     "status": "completed"
    },
    "tags": []
   },
   "source": [
    "#  2 )  In-processing"
   ]
  },
  {
   "cell_type": "markdown",
   "id": "f7975737",
   "metadata": {
    "papermill": {
     "duration": 0.017493,
     "end_time": "2025-01-19T14:08:30.338573",
     "exception": false,
     "start_time": "2025-01-19T14:08:30.321080",
     "status": "completed"
    },
    "tags": []
   },
   "source": [
    "## 2.1 ExponentiatedGradient"
   ]
  },
  {
   "cell_type": "markdown",
   "id": "b8c5e3eb",
   "metadata": {
    "papermill": {
     "duration": 0.017641,
     "end_time": "2025-01-19T14:08:30.374049",
     "exception": false,
     "start_time": "2025-01-19T14:08:30.356408",
     "status": "completed"
    },
    "tags": []
   },
   "source": [
    " ###   a ) Sex as Sensitive Feature"
   ]
  },
  {
   "cell_type": "code",
   "execution_count": 14,
   "id": "6cd6e7a8",
   "metadata": {
    "execution": {
     "iopub.execute_input": "2025-01-19T14:08:30.412350Z",
     "iopub.status.busy": "2025-01-19T14:08:30.411999Z",
     "iopub.status.idle": "2025-01-19T14:29:47.581573Z",
     "shell.execute_reply": "2025-01-19T14:29:47.580577Z"
    },
    "papermill": {
     "duration": 1277.190505,
     "end_time": "2025-01-19T14:29:47.583600",
     "exception": false,
     "start_time": "2025-01-19T14:08:30.393095",
     "status": "completed"
    },
    "tags": []
   },
   "outputs": [],
   "source": [
    "from catboost import CatBoostClassifier\n",
    "from lightgbm import LGBMClassifier\n",
    "from sklearn.model_selection import StratifiedKFold\n",
    "import numpy as np\n",
    "np.random.seed(0)\n",
    "\n",
    "\n",
    "y_pred_mitigatedP = np.zeros(len(y))\n",
    "skf = StratifiedKFold(n_splits=5, shuffle=True, random_state=42)\n",
    "\n",
    "for train_idx, val_idx in skf.split(X, y):\n",
    "    constraint = DemographicParity()\n",
    "    classifier = CatBoostClassifier(verbose=0)\n",
    "    classifier = ExponentiatedGradient(classifier, constraint)\n",
    "    classifier.fit(X.loc[train_idx,:], y[train_idx], sensitive_features=X.loc[train_idx,:][['sex']])\n",
    "    y_pred_mitigatedP[val_idx] = classifier.predict(X.loc[val_idx,:])\n"
   ]
  },
  {
   "cell_type": "code",
   "execution_count": null,
   "id": "7928864c",
   "metadata": {
    "execution": {
     "iopub.execute_input": "2025-01-19T14:29:47.622367Z",
     "iopub.status.busy": "2025-01-19T14:29:47.622021Z",
     "iopub.status.idle": "2025-01-19T14:29:48.979269Z",
     "shell.execute_reply": "2025-01-19T14:29:48.978159Z"
    },
    "papermill": {
     "duration": 1.378017,
     "end_time": "2025-01-19T14:29:48.980852",
     "exception": false,
     "start_time": "2025-01-19T14:29:47.602835",
     "status": "completed"
    },
    "tags": []
   },
   "outputs": [],
   "source": [
    "eg_sex_mitigated = MetricFrame(metrics=metrics, y_true=y, y_pred=y_pred_mitigatedP, sensitive_features=df[['sex']])\n",
    "\n",
    "\n",
    "eg_sex_mitigated.by_group.plot.bar(\n",
    "    subplots=True,\n",
    "    layout=[3, 3],\n",
    "    legend=False,\n",
    "    figsize=[12, 8],\n",
    "    title=\"Show all metrics\",\n",
    ")"
   ]
  },
  {
   "cell_type": "code",
   "execution_count": null,
   "id": "323e16b4",
   "metadata": {
    "execution": {
     "iopub.execute_input": "2025-01-19T14:29:49.021101Z",
     "iopub.status.busy": "2025-01-19T14:29:49.020721Z",
     "iopub.status.idle": "2025-01-19T14:29:49.029398Z",
     "shell.execute_reply": "2025-01-19T14:29:49.028348Z"
    },
    "papermill": {
     "duration": 0.030579,
     "end_time": "2025-01-19T14:29:49.030839",
     "exception": false,
     "start_time": "2025-01-19T14:29:49.000260",
     "status": "completed"
    },
    "tags": []
   },
   "outputs": [],
   "source": [
    "print(eg_sex_mitigated.overall)\n",
    "print(eg_sex_mitigated.by_group)"
   ]
  },
  {
   "cell_type": "markdown",
   "id": "38731b77",
   "metadata": {
    "papermill": {
     "duration": 0.018605,
     "end_time": "2025-01-19T14:29:49.068428",
     "exception": false,
     "start_time": "2025-01-19T14:29:49.049823",
     "status": "completed"
    },
    "tags": []
   },
   "source": [
    "## 2.2 Democratic Parity Differences "
   ]
  },
  {
   "cell_type": "markdown",
   "id": "35121ec5",
   "metadata": {
    "papermill": {
     "duration": 0.018537,
     "end_time": "2025-01-19T14:29:49.106010",
     "exception": false,
     "start_time": "2025-01-19T14:29:49.087473",
     "status": "completed"
    },
    "tags": []
   },
   "source": [
    " ###   a ) Sex as Sensitive Feature"
   ]
  },
  {
   "cell_type": "code",
   "execution_count": null,
   "id": "7cfc390f",
   "metadata": {
    "execution": {
     "iopub.execute_input": "2025-01-19T14:29:49.145785Z",
     "iopub.status.busy": "2025-01-19T14:29:49.145414Z",
     "iopub.status.idle": "2025-01-19T14:29:49.647041Z",
     "shell.execute_reply": "2025-01-19T14:29:49.645889Z"
    },
    "papermill": {
     "duration": 0.523622,
     "end_time": "2025-01-19T14:29:49.648845",
     "exception": false,
     "start_time": "2025-01-19T14:29:49.125223",
     "status": "completed"
    },
    "tags": []
   },
   "outputs": [],
   "source": [
    "from fairlearn.metrics import demographic_parity_difference\n",
    "print(demographic_parity_difference(y_true=y,\n",
    "                                    y_pred=y_pred_mitigatedP,\n",
    "                                    sensitive_features=df['sex']))\n",
    "from fairlearn.metrics import demographic_parity_ratio\n",
    "print(demographic_parity_ratio(y_true=y,\n",
    "                               y_pred=y_pred_mitigatedP,\n",
    "                               sensitive_features=df['sex']))"
   ]
  },
  {
   "cell_type": "markdown",
   "id": "784a8e01",
   "metadata": {
    "papermill": {
     "duration": 0.019124,
     "end_time": "2025-01-19T14:29:49.687549",
     "exception": false,
     "start_time": "2025-01-19T14:29:49.668425",
     "status": "completed"
    },
    "tags": []
   },
   "source": [
    "# 2.3 GridSearch "
   ]
  },
  {
   "cell_type": "markdown",
   "id": "7f53888f",
   "metadata": {
    "papermill": {
     "duration": 0.019191,
     "end_time": "2025-01-19T14:29:49.726266",
     "exception": false,
     "start_time": "2025-01-19T14:29:49.707075",
     "status": "completed"
    },
    "tags": []
   },
   "source": []
  },
  {
   "cell_type": "code",
   "execution_count": 18,
   "id": "fd5e8de2",
   "metadata": {
    "execution": {
     "iopub.execute_input": "2025-01-19T14:29:49.767607Z",
     "iopub.status.busy": "2025-01-19T14:29:49.767252Z",
     "iopub.status.idle": "2025-01-19T14:29:49.772153Z",
     "shell.execute_reply": "2025-01-19T14:29:49.771082Z"
    },
    "papermill": {
     "duration": 0.026933,
     "end_time": "2025-01-19T14:29:49.773627",
     "exception": false,
     "start_time": "2025-01-19T14:29:49.746694",
     "status": "completed"
    },
    "tags": []
   },
   "outputs": [],
   "source": [
    "from sklearn.linear_model import LogisticRegression\n",
    "from sklearn.model_selection import train_test_split\n",
    "from sklearn.preprocessing import LabelEncoder, StandardScaler\n",
    "from fairlearn.reductions import DemographicParity, GridSearch, EqualizedOdds"
   ]
  },
  {
   "cell_type": "markdown",
   "id": "a793daa9",
   "metadata": {
    "papermill": {
     "duration": 0.019263,
     "end_time": "2025-01-19T14:29:49.812334",
     "exception": false,
     "start_time": "2025-01-19T14:29:49.793071",
     "status": "completed"
    },
    "tags": []
   },
   "source": [
    " ###   a ) Sex as Sensitive Feature"
   ]
  },
  {
   "cell_type": "code",
   "execution_count": 21,
   "id": "add77c78",
   "metadata": {
    "execution": {
     "iopub.execute_input": "2025-01-19T14:29:49.940586Z",
     "iopub.status.busy": "2025-01-19T14:29:49.940251Z",
     "iopub.status.idle": "2025-01-19T14:52:01.267011Z",
     "shell.execute_reply": "2025-01-19T14:52:01.265675Z"
    },
    "papermill": {
     "duration": 1331.348821,
     "end_time": "2025-01-19T14:52:01.269091",
     "exception": false,
     "start_time": "2025-01-19T14:29:49.920270",
     "status": "completed"
    },
    "tags": []
   },
   "outputs": [],
   "source": [
    "from catboost import CatBoostClassifier\n",
    "from lightgbm import LGBMClassifier\n",
    "from sklearn.model_selection import StratifiedKFold\n",
    "import numpy as np\n",
    "np.random.seed(0)\n",
    "\n",
    "\n",
    "y_pred_GSp_sex_mitigated = np.zeros(len(y))\n",
    "skf = StratifiedKFold(n_splits=5, shuffle=True, random_state=42)\n",
    "\n",
    "for train_idx, val_idx in skf.split(X, y):\n",
    "    constraint = DemographicParity()\n",
    "    classifier = CatBoostClassifier(verbose=0)\n",
    "    classifier = GridSearch(classifier, constraint,grid_size=31)\n",
    "    classifier.fit(X.loc[train_idx,:], y[train_idx], sensitive_features=X.loc[train_idx,:][['sex']])\n",
    "    y_pred_GSp_sex_mitigated[val_idx] = classifier.predict(X.loc[val_idx,:])\n"
   ]
  },
  {
   "cell_type": "code",
   "execution_count": null,
   "id": "90662c42",
   "metadata": {
    "execution": {
     "iopub.execute_input": "2025-01-19T14:52:01.310319Z",
     "iopub.status.busy": "2025-01-19T14:52:01.309932Z",
     "iopub.status.idle": "2025-01-19T14:52:02.912349Z",
     "shell.execute_reply": "2025-01-19T14:52:02.911296Z"
    },
    "papermill": {
     "duration": 1.624687,
     "end_time": "2025-01-19T14:52:02.914044",
     "exception": false,
     "start_time": "2025-01-19T14:52:01.289357",
     "status": "completed"
    },
    "tags": []
   },
   "outputs": [],
   "source": [
    "GS_mitigatedp_sex = MetricFrame(metrics=metrics, y_true=y, y_pred=y_pred_GSp_sex_mitigated, sensitive_features=df[['sex']])\n",
    "GS_mitigatedp_sex.by_group.plot.bar(\n",
    "    subplots=True,\n",
    "    layout=[3, 3],\n",
    "    legend=False,\n",
    "    figsize=[12, 8],\n",
    "   title=\"Show all metrics\",\n",
    ")"
   ]
  },
  {
   "cell_type": "code",
   "execution_count": null,
   "id": "f8c942f6",
   "metadata": {
    "execution": {
     "iopub.execute_input": "2025-01-19T14:52:02.955251Z",
     "iopub.status.busy": "2025-01-19T14:52:02.954882Z",
     "iopub.status.idle": "2025-01-19T14:52:02.960419Z",
     "shell.execute_reply": "2025-01-19T14:52:02.959417Z"
    },
    "papermill": {
     "duration": 0.02786,
     "end_time": "2025-01-19T14:52:02.961952",
     "exception": false,
     "start_time": "2025-01-19T14:52:02.934092",
     "status": "completed"
    },
    "tags": []
   },
   "outputs": [],
   "source": [
    "print(GS_mitigatedp_sex.overall)\n"
   ]
  },
  {
   "cell_type": "markdown",
   "id": "e2ba2218",
   "metadata": {
    "papermill": {
     "duration": 0.01992,
     "end_time": "2025-01-19T14:52:03.002210",
     "exception": false,
     "start_time": "2025-01-19T14:52:02.982290",
     "status": "completed"
    },
    "tags": []
   },
   "source": [
    "## 2.4 Democratic Parity Differences "
   ]
  },
  {
   "cell_type": "markdown",
   "id": "8c387300",
   "metadata": {
    "papermill": {
     "duration": 0.020267,
     "end_time": "2025-01-19T14:52:03.042498",
     "exception": false,
     "start_time": "2025-01-19T14:52:03.022231",
     "status": "completed"
    },
    "tags": []
   },
   "source": [
    " ###   a ) Sex as Sensitive Feature"
   ]
  },
  {
   "cell_type": "code",
   "execution_count": null,
   "id": "ff4a67f9",
   "metadata": {
    "execution": {
     "iopub.execute_input": "2025-01-19T14:52:03.084236Z",
     "iopub.status.busy": "2025-01-19T14:52:03.083848Z",
     "iopub.status.idle": "2025-01-19T14:52:03.584439Z",
     "shell.execute_reply": "2025-01-19T14:52:03.583328Z"
    },
    "papermill": {
     "duration": 0.523455,
     "end_time": "2025-01-19T14:52:03.586122",
     "exception": false,
     "start_time": "2025-01-19T14:52:03.062667",
     "status": "completed"
    },
    "tags": []
   },
   "outputs": [],
   "source": [
    "from fairlearn.metrics import demographic_parity_difference\n",
    "print(demographic_parity_difference(y_true=y,\n",
    "                                    y_pred=y_pred_GSp_sex_mitigated,\n",
    "                                    sensitive_features=df['sex']))\n",
    "from fairlearn.metrics import demographic_parity_ratio\n",
    "print(demographic_parity_ratio(y_true=y,\n",
    "                               y_pred=y_pred_GSp_sex_mitigated,\n",
    "                               sensitive_features=df['sex']))"
   ]
  },
  {
   "cell_type": "markdown",
   "id": "7ac96d94",
   "metadata": {
    "papermill": {
     "duration": 0.020139,
     "end_time": "2025-01-19T14:52:03.627021",
     "exception": false,
     "start_time": "2025-01-19T14:52:03.606882",
     "status": "completed"
    },
    "tags": []
   },
   "source": [
    "#  3 )  Post-processing"
   ]
  },
  {
   "cell_type": "markdown",
   "id": "ffaa10be",
   "metadata": {
    "papermill": {
     "duration": 0.020218,
     "end_time": "2025-01-19T14:52:03.667854",
     "exception": false,
     "start_time": "2025-01-19T14:52:03.647636",
     "status": "completed"
    },
    "tags": []
   },
   "source": [
    "# 3.1 - ThresholdOptimizer"
   ]
  },
  {
   "cell_type": "code",
   "execution_count": 25,
   "id": "34c49755",
   "metadata": {
    "execution": {
     "iopub.execute_input": "2025-01-19T14:52:03.710289Z",
     "iopub.status.busy": "2025-01-19T14:52:03.709897Z",
     "iopub.status.idle": "2025-01-19T14:52:03.713922Z",
     "shell.execute_reply": "2025-01-19T14:52:03.713051Z"
    },
    "papermill": {
     "duration": 0.027169,
     "end_time": "2025-01-19T14:52:03.715492",
     "exception": false,
     "start_time": "2025-01-19T14:52:03.688323",
     "status": "completed"
    },
    "tags": []
   },
   "outputs": [],
   "source": [
    "from fairlearn.postprocessing import ThresholdOptimizer"
   ]
  },
  {
   "cell_type": "markdown",
   "id": "f7ba6902",
   "metadata": {
    "papermill": {
     "duration": 0.020144,
     "end_time": "2025-01-19T14:52:03.755983",
     "exception": false,
     "start_time": "2025-01-19T14:52:03.735839",
     "status": "completed"
    },
    "tags": []
   },
   "source": [
    " ###  a ) sex as Sensitive Feature"
   ]
  },
  {
   "cell_type": "code",
   "execution_count": 26,
   "id": "878f4c5a",
   "metadata": {
    "execution": {
     "iopub.execute_input": "2025-01-19T14:52:03.798301Z",
     "iopub.status.busy": "2025-01-19T14:52:03.797891Z",
     "iopub.status.idle": "2025-01-19T14:52:55.556248Z",
     "shell.execute_reply": "2025-01-19T14:52:55.555245Z"
    },
    "papermill": {
     "duration": 51.781344,
     "end_time": "2025-01-19T14:52:55.557974",
     "exception": false,
     "start_time": "2025-01-19T14:52:03.776630",
     "status": "completed"
    },
    "tags": []
   },
   "outputs": [],
   "source": [
    "from catboost import CatBoostClassifier\n",
    "from lightgbm import LGBMClassifier\n",
    "from sklearn.model_selection import StratifiedKFold\n",
    "import numpy as np\n",
    "np.random.seed(0)\n",
    "\n",
    "\n",
    "thp_sex_y_pred = np.zeros(len(y))\n",
    "skf = StratifiedKFold(n_splits=5, shuffle=True, random_state=42)\n",
    "\n",
    "for train_idx, val_idx in skf.split(X, y):\n",
    "    classifier = CatBoostClassifier(verbose=0)\n",
    "    classifier = ThresholdOptimizer(estimator=classifier, constraints='demographic_parity')\n",
    "    classifier.fit(X.loc[train_idx,:], y[train_idx], sensitive_features=X.loc[train_idx,:][['sex']])\n",
    "    thp_sex_y_pred[val_idx] = classifier.predict(X.loc[val_idx,:], sensitive_features=X.loc[val_idx,:][['sex']])\n"
   ]
  },
  {
   "cell_type": "code",
   "execution_count": null,
   "id": "ab4a4172",
   "metadata": {
    "execution": {
     "iopub.execute_input": "2025-01-19T14:52:55.600744Z",
     "iopub.status.busy": "2025-01-19T14:52:55.600406Z",
     "iopub.status.idle": "2025-01-19T14:52:56.969618Z",
     "shell.execute_reply": "2025-01-19T14:52:56.968639Z"
    },
    "papermill": {
     "duration": 1.391967,
     "end_time": "2025-01-19T14:52:56.971246",
     "exception": false,
     "start_time": "2025-01-19T14:52:55.579279",
     "status": "completed"
    },
    "tags": []
   },
   "outputs": [],
   "source": [
    "metric_frame_thp_sex = MetricFrame(metrics=metrics,\n",
    "                           y_true=y,\n",
    "                           y_pred=thp_sex_y_pred,\n",
    "                           sensitive_features=df[['sex']])\n",
    "metric_frame_thp_sex.by_group.plot.bar(\n",
    "    subplots=True,\n",
    "    layout=[3, 3],\n",
    "    legend=False,\n",
    "    figsize=[12, 8],\n",
    "    title=\"Show all metrics\",\n",
    ")"
   ]
  },
  {
   "cell_type": "code",
   "execution_count": null,
   "id": "8e5665cf",
   "metadata": {
    "execution": {
     "iopub.execute_input": "2025-01-19T14:52:57.014703Z",
     "iopub.status.busy": "2025-01-19T14:52:57.014380Z",
     "iopub.status.idle": "2025-01-19T14:52:57.020034Z",
     "shell.execute_reply": "2025-01-19T14:52:57.018799Z"
    },
    "papermill": {
     "duration": 0.029011,
     "end_time": "2025-01-19T14:52:57.021553",
     "exception": false,
     "start_time": "2025-01-19T14:52:56.992542",
     "status": "completed"
    },
    "tags": []
   },
   "outputs": [],
   "source": [
    "print(metric_frame_thp_sex.overall)\n"
   ]
  },
  {
   "cell_type": "markdown",
   "id": "56a37ff9",
   "metadata": {
    "papermill": {
     "duration": 0.020794,
     "end_time": "2025-01-19T14:52:57.063632",
     "exception": false,
     "start_time": "2025-01-19T14:52:57.042838",
     "status": "completed"
    },
    "tags": []
   },
   "source": [
    "## 3.2 Democratic Parity Differences "
   ]
  },
  {
   "cell_type": "markdown",
   "id": "42c805a8",
   "metadata": {
    "papermill": {
     "duration": 0.020688,
     "end_time": "2025-01-19T14:52:57.105287",
     "exception": false,
     "start_time": "2025-01-19T14:52:57.084599",
     "status": "completed"
    },
    "tags": []
   },
   "source": [
    " ###  a ) sex as Sensitive Feature"
   ]
  },
  {
   "cell_type": "code",
   "execution_count": null,
   "id": "5c080f1e",
   "metadata": {
    "execution": {
     "iopub.execute_input": "2025-01-19T14:52:57.148375Z",
     "iopub.status.busy": "2025-01-19T14:52:57.148028Z",
     "iopub.status.idle": "2025-01-19T14:52:57.662212Z",
     "shell.execute_reply": "2025-01-19T14:52:57.661103Z"
    },
    "papermill": {
     "duration": 0.537472,
     "end_time": "2025-01-19T14:52:57.663748",
     "exception": false,
     "start_time": "2025-01-19T14:52:57.126276",
     "status": "completed"
    },
    "tags": []
   },
   "outputs": [],
   "source": [
    "from fairlearn.metrics import demographic_parity_difference\n",
    "print(demographic_parity_difference(y_true=y,\n",
    "                                    y_pred=thp_sex_y_pred,\n",
    "                                    sensitive_features=df['sex']))\n",
    "from fairlearn.metrics import demographic_parity_ratio\n",
    "print(demographic_parity_ratio(y_true=y,\n",
    "                               y_pred=thp_sex_y_pred,\n",
    "                               sensitive_features=df['sex']))"
   ]
  },
  {
   "cell_type": "markdown",
   "id": "ec018b93",
   "metadata": {
    "papermill": {
     "duration": 0.020965,
     "end_time": "2025-01-19T14:52:57.706254",
     "exception": false,
     "start_time": "2025-01-19T14:52:57.685289",
     "status": "completed"
    },
    "tags": []
   },
   "source": [
    "# 3.2 Mitigation in Series "
   ]
  },
  {
   "cell_type": "markdown",
   "id": "56d61f74",
   "metadata": {
    "papermill": {
     "duration": 0.020921,
     "end_time": "2025-01-19T14:52:57.748852",
     "exception": false,
     "start_time": "2025-01-19T14:52:57.727931",
     "status": "completed"
    },
    "tags": []
   },
   "source": [
    "# 1 ) CorrelationRemover + ExponentiateGradient"
   ]
  },
  {
   "cell_type": "code",
   "execution_count": null,
   "id": "ca4f0a21",
   "metadata": {
    "execution": {
     "iopub.execute_input": "2025-01-19T14:52:57.793198Z",
     "iopub.status.busy": "2025-01-19T14:52:57.792812Z",
     "iopub.status.idle": "2025-01-19T15:17:02.765246Z",
     "shell.execute_reply": "2025-01-19T15:17:02.764222Z"
    },
    "papermill": {
     "duration": 1445.017487,
     "end_time": "2025-01-19T15:17:02.787639",
     "exception": false,
     "start_time": "2025-01-19T14:52:57.770152",
     "status": "completed"
    },
    "tags": []
   },
   "outputs": [],
   "source": [
    "from catboost import CatBoostClassifier\n",
    "from lightgbm import LGBMClassifier\n",
    "from sklearn.model_selection import StratifiedKFold\n",
    "import numpy as np\n",
    "from tqdm import tqdm\n",
    "\n",
    "crp_sex = CorrelationRemover(sensitive_feature_ids=['sex'])\n",
    "crp_sex.fit(X.fillna(0))\n",
    "X_transform_sexp = crp_sex.transform(X.fillna(0))\n",
    "\n",
    "y_pred_mitigated_sex_s = np.zeros(len(y))\n",
    "skf = StratifiedKFold(n_splits=5, shuffle=True, random_state=42)\n",
    "classifier = CatBoostClassifier(verbose=0)\n",
    "\n",
    "for train_idx, val_idx in tqdm(skf.split(X_transform_sexp, y)):\n",
    "    constraint = DemographicParity()\n",
    "    classifier = CatBoostClassifier(verbose=0)\n",
    "    classifier = ExponentiatedGradient(classifier, constraint,max_iter=10)\n",
    "    classifier.fit(X_transform_sexp[train_idx], y[train_idx], sensitive_features=X.loc[train_idx,:][['sex']])\n",
    "    y_pred_mitigated_sex_s[val_idx] = classifier.predict(X_transform_sexp[val_idx])\n"
   ]
  },
  {
   "cell_type": "code",
   "execution_count": null,
   "id": "0dea8169",
   "metadata": {
    "execution": {
     "iopub.execute_input": "2025-01-19T15:17:02.833336Z",
     "iopub.status.busy": "2025-01-19T15:17:02.832954Z",
     "iopub.status.idle": "2025-01-19T15:17:03.089697Z",
     "shell.execute_reply": "2025-01-19T15:17:03.088634Z"
    },
    "papermill": {
     "duration": 0.281181,
     "end_time": "2025-01-19T15:17:03.091321",
     "exception": false,
     "start_time": "2025-01-19T15:17:02.810140",
     "status": "completed"
    },
    "tags": []
   },
   "outputs": [],
   "source": [
    "dmpds = demographic_parity_difference(y_true=y,\n",
    "                                    y_pred=y_pred_mitigated_sex_s,\n",
    "                                    sensitive_features=df['sex'])\n",
    "dmpds"
   ]
  },
  {
   "cell_type": "code",
   "execution_count": null,
   "id": "083eaa38",
   "metadata": {
    "execution": {
     "iopub.execute_input": "2025-01-19T15:17:03.137270Z",
     "iopub.status.busy": "2025-01-19T15:17:03.136910Z",
     "iopub.status.idle": "2025-01-19T15:17:03.153334Z",
     "shell.execute_reply": "2025-01-19T15:17:03.152234Z"
    },
    "papermill": {
     "duration": 0.041308,
     "end_time": "2025-01-19T15:17:03.155005",
     "exception": false,
     "start_time": "2025-01-19T15:17:03.113697",
     "status": "completed"
    },
    "tags": []
   },
   "outputs": [],
   "source": [
    "from sklearn.metrics import accuracy_score\n",
    "accuracy_score(y,y_pred_mitigated_sex_s)"
   ]
  },
  {
   "cell_type": "markdown",
   "id": "3fc4827a",
   "metadata": {
    "papermill": {
     "duration": 0.021847,
     "end_time": "2025-01-19T15:17:03.199487",
     "exception": false,
     "start_time": "2025-01-19T15:17:03.177640",
     "status": "completed"
    },
    "tags": []
   },
   "source": [
    " # 2 ) CorrelationRemover + GridSearch"
   ]
  },
  {
   "cell_type": "code",
   "execution_count": null,
   "id": "a028d22a",
   "metadata": {
    "execution": {
     "iopub.execute_input": "2025-01-19T15:17:03.244632Z",
     "iopub.status.busy": "2025-01-19T15:17:03.244305Z",
     "iopub.status.idle": "2025-01-19T17:25:29.165224Z",
     "shell.execute_reply": "2025-01-19T17:25:29.164007Z"
    },
    "papermill": {
     "duration": 7705.94574,
     "end_time": "2025-01-19T17:25:29.167151",
     "exception": false,
     "start_time": "2025-01-19T15:17:03.221411",
     "status": "completed"
    },
    "scrolled": true,
    "tags": []
   },
   "outputs": [],
   "source": [
    "from catboost import CatBoostClassifier\n",
    "from lightgbm import LGBMClassifier\n",
    "from sklearn.model_selection import StratifiedKFold\n",
    "import numpy as np\n",
    "from tqdm import tqdm\n",
    "\n",
    "crp_sex = CorrelationRemover(sensitive_feature_ids=['sex'])\n",
    "crp_sex.fit(X.fillna(0))\n",
    "X_transform_sexp = crp_sex.transform(X.fillna(0))\n",
    "\n",
    "y_pred_GS_mitigated_sex_scg = np.zeros(len(y))\n",
    "skf = StratifiedKFold(n_splits=5, shuffle=True, random_state=42)\n",
    "classifier = CatBoostClassifier(verbose=0)\n",
    "\n",
    "for train_idx, val_idx in tqdm(skf.split(X_transform_sexp, y)):\n",
    "    constraint = DemographicParity()\n",
    "    classifier = CatBoostClassifier(verbose=0)\n",
    "    classifier = GridSearch(classifier, constraint,grid_size=31*5)\n",
    "    classifier.fit(X_transform_sexp[train_idx], y[train_idx], sensitive_features=X.loc[train_idx,:][['sex']])\n",
    "    y_pred_GS_mitigated_sex_scg[val_idx] = classifier.predict(X_transform_sexp[val_idx])\n"
   ]
  },
  {
   "cell_type": "code",
   "execution_count": null,
   "id": "9862e219",
   "metadata": {
    "execution": {
     "iopub.execute_input": "2025-01-19T17:25:29.275513Z",
     "iopub.status.busy": "2025-01-19T17:25:29.275048Z",
     "iopub.status.idle": "2025-01-19T17:25:29.546073Z",
     "shell.execute_reply": "2025-01-19T17:25:29.545064Z"
    },
    "papermill": {
     "duration": 0.327272,
     "end_time": "2025-01-19T17:25:29.547726",
     "exception": false,
     "start_time": "2025-01-19T17:25:29.220454",
     "status": "completed"
    },
    "tags": []
   },
   "outputs": [],
   "source": [
    "dmpds = demographic_parity_difference(y_true=y,\n",
    "                                    y_pred=y_pred_GS_mitigated_sex_scg,\n",
    "                                    sensitive_features=df['sex'])\n",
    "dmpds\n"
   ]
  },
  {
   "cell_type": "code",
   "execution_count": null,
   "id": "3187d5bd",
   "metadata": {
    "execution": {
     "iopub.execute_input": "2025-01-19T17:25:29.656013Z",
     "iopub.status.busy": "2025-01-19T17:25:29.655603Z",
     "iopub.status.idle": "2025-01-19T17:25:29.672669Z",
     "shell.execute_reply": "2025-01-19T17:25:29.671605Z"
    },
    "papermill": {
     "duration": 0.072546,
     "end_time": "2025-01-19T17:25:29.674333",
     "exception": false,
     "start_time": "2025-01-19T17:25:29.601787",
     "status": "completed"
    },
    "tags": []
   },
   "outputs": [],
   "source": [
    "from sklearn.metrics import accuracy_score\n",
    "accuracy_score(y,y_pred_GS_mitigated_sex_scg)"
   ]
  },
  {
   "cell_type": "markdown",
   "id": "c2df265b",
   "metadata": {
    "papermill": {
     "duration": 0.054176,
     "end_time": "2025-01-19T17:25:29.781609",
     "exception": false,
     "start_time": "2025-01-19T17:25:29.727433",
     "status": "completed"
    },
    "tags": []
   },
   "source": [
    "# 3 ) CorrelationRemover + ThresholdOptimizer"
   ]
  },
  {
   "cell_type": "code",
   "execution_count": 36,
   "id": "c2626962",
   "metadata": {
    "execution": {
     "iopub.execute_input": "2025-01-19T17:25:29.890102Z",
     "iopub.status.busy": "2025-01-19T17:25:29.889679Z",
     "iopub.status.idle": "2025-01-19T17:26:22.081671Z",
     "shell.execute_reply": "2025-01-19T17:26:22.080839Z"
    },
    "papermill": {
     "duration": 52.248634,
     "end_time": "2025-01-19T17:26:22.083620",
     "exception": false,
     "start_time": "2025-01-19T17:25:29.834986",
     "status": "completed"
    },
    "tags": []
   },
   "outputs": [],
   "source": [
    "from catboost import CatBoostClassifier\n",
    "from lightgbm import LGBMClassifier\n",
    "from sklearn.model_selection import StratifiedKFold\n",
    "import numpy as np\n",
    "\n",
    "crp_sex = CorrelationRemover(sensitive_feature_ids=['sex'])\n",
    "crp_sex.fit(X.fillna(0))\n",
    "X_transform_sexp = crp_sex.transform(X.fillna(0))\n",
    "\n",
    "th_sex_y_pred_sct = np.zeros(len(y))\n",
    "skf = StratifiedKFold(n_splits=5, shuffle=True, random_state=42)\n",
    "classifier = CatBoostClassifier(verbose=0)\n",
    "\n",
    "for train_idx, val_idx in skf.split(X_transform_sexp, y):\n",
    "    constraint = DemographicParity()\n",
    "    classifier = CatBoostClassifier(verbose=0)\n",
    "    classifier = ThresholdOptimizer(estimator=classifier, constraints='demographic_parity')\n",
    "    classifier.fit(X.loc[train_idx,:], y[train_idx], sensitive_features=X.loc[train_idx,:][['sex']])\n",
    "    th_sex_y_pred_sct[val_idx] = classifier.predict(X.loc[val_idx,:], sensitive_features=X.loc[val_idx,:][['sex']])\n"
   ]
  },
  {
   "cell_type": "code",
   "execution_count": null,
   "id": "7395e7e9",
   "metadata": {
    "execution": {
     "iopub.execute_input": "2025-01-19T17:26:22.192847Z",
     "iopub.status.busy": "2025-01-19T17:26:22.192475Z",
     "iopub.status.idle": "2025-01-19T17:26:22.448420Z",
     "shell.execute_reply": "2025-01-19T17:26:22.447467Z"
    },
    "papermill": {
     "duration": 0.31299,
     "end_time": "2025-01-19T17:26:22.450080",
     "exception": false,
     "start_time": "2025-01-19T17:26:22.137090",
     "status": "completed"
    },
    "tags": []
   },
   "outputs": [],
   "source": [
    "from fairlearn.metrics import demographic_parity_difference\n",
    "dmpds = demographic_parity_difference(y_true=y,\n",
    "                                    y_pred=th_sex_y_pred_sct,\n",
    "                                    sensitive_features=df['sex'])\n",
    "dmpds"
   ]
  },
  {
   "cell_type": "code",
   "execution_count": null,
   "id": "c9b377e2",
   "metadata": {
    "execution": {
     "iopub.execute_input": "2025-01-19T17:26:22.562082Z",
     "iopub.status.busy": "2025-01-19T17:26:22.561664Z",
     "iopub.status.idle": "2025-01-19T17:26:22.577457Z",
     "shell.execute_reply": "2025-01-19T17:26:22.576486Z"
    },
    "papermill": {
     "duration": 0.073546,
     "end_time": "2025-01-19T17:26:22.579035",
     "exception": false,
     "start_time": "2025-01-19T17:26:22.505489",
     "status": "completed"
    },
    "tags": []
   },
   "outputs": [],
   "source": [
    "from sklearn.metrics import accuracy_score\n",
    "accuracy_score(y,th_sex_y_pred_sct)"
   ]
  }
 ],
 "metadata": {
  "kaggle": {
   "accelerator": "none",
   "dataSources": [
    {
     "datasetId": 756433,
     "sourceId": 1316934,
     "sourceType": "datasetVersion"
    },
    {
     "datasetId": 3500688,
     "sourceId": 6110205,
     "sourceType": "datasetVersion"
    }
   ],
   "dockerImageVersionId": 30839,
   "isGpuEnabled": false,
   "isInternetEnabled": true,
   "language": "python",
   "sourceType": "notebook"
  },
  "kernelspec": {
   "display_name": "Python 3",
   "language": "python",
   "name": "python3"
  },
  "language_info": {
   "codemirror_mode": {
    "name": "ipython",
    "version": 3
   },
   "file_extension": ".py",
   "mimetype": "text/x-python",
   "name": "python",
   "nbconvert_exporter": "python",
   "pygments_lexer": "ipython3",
   "version": "3.10.12"
  },
  "papermill": {
   "default_parameters": {},
   "duration": 11992.021745,
   "end_time": "2025-01-19T17:26:24.078068",
   "environment_variables": {},
   "exception": null,
   "input_path": "__notebook__.ipynb",
   "output_path": "__notebook__.ipynb",
   "parameters": {},
   "start_time": "2025-01-19T14:06:32.056323",
   "version": "2.6.0"
  }
 },
 "nbformat": 4,
 "nbformat_minor": 5
}
